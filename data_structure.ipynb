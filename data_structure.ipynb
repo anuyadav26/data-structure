{
  "nbformat": 4,
  "nbformat_minor": 0,
  "metadata": {
    "colab": {
      "provenance": []
    },
    "kernelspec": {
      "name": "python3",
      "display_name": "Python 3"
    },
    "language_info": {
      "name": "python"
    }
  },
  "cells": [
    {
      "cell_type": "markdown",
      "source": [
        "# *Theory questions*"
      ],
      "metadata": {
        "id": "waCQ6QRYAn45"
      }
    },
    {
      "cell_type": "markdown",
      "source": [
        "***Q1) What are the data structures, and why are the important ?***\n",
        "  - Data structures are fundamental ways to organize and store data for efficient access and manipulation,\n",
        "    and they are crucial in computer science because they enable the creation of efficient algorithms and programs."
      ],
      "metadata": {
        "id": "tpi3t41X069L"
      }
    },
    {
      "cell_type": "markdown",
      "source": [
        "***Q2) Explain the difference between mutable and immutable data type with example .***\n",
        "  - objects/container whose state or value can be changed after they are created are called as mutable objects or container list is a type of mutable object/supports item assignment.\n",
        "  - objects/container whose state or value can not be changed after they are created are called as immutable objects or container, string is a type of immutable object/ doesn't supports item assignment"
      ],
      "metadata": {
        "id": "ANS91E8V1EZ-"
      }
    },
    {
      "cell_type": "code",
      "source": [
        "#mutable and immutable example\n",
        "list_cont = [1, 2, 3, 4.3, 3+5j, True, \"Ajay\"]\n",
        "list_cont\n",
        "list_cont[6] = \"Bijay\"\n",
        "\n",
        "b = \"pwskills\"\n",
        "b\n",
        "b[0] = \"I\" #this will throw error"
      ],
      "metadata": {
        "colab": {
          "base_uri": "https://localhost:8080/",
          "height": 176
        },
        "id": "sg1A_sUZ1uSv",
        "outputId": "e4ec969d-4676-4f6c-f9fc-cd9910d66204"
      },
      "execution_count": 2,
      "outputs": [
        {
          "output_type": "error",
          "ename": "TypeError",
          "evalue": "'str' object does not support item assignment",
          "traceback": [
            "\u001b[0;31m---------------------------------------------------------------------------\u001b[0m",
            "\u001b[0;31mTypeError\u001b[0m                                 Traceback (most recent call last)",
            "\u001b[0;32m<ipython-input-2-36abcbf3b7f3>\u001b[0m in \u001b[0;36m<cell line: 0>\u001b[0;34m()\u001b[0m\n\u001b[1;32m      6\u001b[0m \u001b[0mb\u001b[0m \u001b[0;34m=\u001b[0m \u001b[0;34m\"pwskills\"\u001b[0m\u001b[0;34m\u001b[0m\u001b[0;34m\u001b[0m\u001b[0m\n\u001b[1;32m      7\u001b[0m \u001b[0mb\u001b[0m\u001b[0;34m\u001b[0m\u001b[0;34m\u001b[0m\u001b[0m\n\u001b[0;32m----> 8\u001b[0;31m \u001b[0mb\u001b[0m\u001b[0;34m[\u001b[0m\u001b[0;36m0\u001b[0m\u001b[0;34m]\u001b[0m \u001b[0;34m=\u001b[0m \u001b[0;34m\"I\"\u001b[0m\u001b[0;34m\u001b[0m\u001b[0;34m\u001b[0m\u001b[0m\n\u001b[0m",
            "\u001b[0;31mTypeError\u001b[0m: 'str' object does not support item assignment"
          ]
        }
      ]
    },
    {
      "cell_type": "markdown",
      "source": [
        "***Q3) What are the main difference between lists and tuple in Python ?***\n",
        "  - The primary difference between lists and tuples in Python is their mutability: lists are mutable (can be changed after creation), while tuples are immutable (cannot be changed after creation)."
      ],
      "metadata": {
        "id": "0uK2fPxP2WPn"
      }
    },
    {
      "cell_type": "markdown",
      "source": [
        "***Q4) Describe how dictionaries store data ?***\n",
        "  - Python's efficient key/value hash table structure is called a \"dict\". The contents of a dict can be written as a series of key:value pairs within braces { }, e.g. dict = {key1:value1, key2:value2, ... }. The \"empty dict\" is just an empty pair of curly braces {}."
      ],
      "metadata": {
        "id": "eWroo5qw2r4s"
      }
    },
    {
      "cell_type": "markdown",
      "source": [
        "***Q5) Why might you use a set instead of a list in Python ?***\n",
        "  - Because sets cannot have multiple occurrences of the same element, it makes sets highly useful to efficiently remove duplicate values from a list or tuple and to perform common math operations like unions and intersections"
      ],
      "metadata": {
        "id": "kn7hX3q43Jzj"
      }
    },
    {
      "cell_type": "markdown",
      "source": [
        "***Q6) What is a string in Python and how is it different from a lists ?***\n",
        "  - A string is a sequence of characters between single or double quotes. A list is a sequence of items, where each item could be anything (an integer, a float, a string, etc)."
      ],
      "metadata": {
        "id": "-WT1AlKy3e8D"
      }
    },
    {
      "cell_type": "markdown",
      "source": [
        "**Q7) How do tuples ensure data integrity in Python ?**\n",
        "  - Tuples are immutable to ensure that their contents remain constant throughout their lifecycle, guaranteeing data integrity and reliability. This immutability allows tuples to be used as keys in dictionaries and elements in sets, as they can be hashed."
      ],
      "metadata": {
        "id": "1c2RGHHy3zi2"
      }
    },
    {
      "cell_type": "markdown",
      "source": [
        "***Q8) What is the hash table , and how does it relate to dictionaries in Python ?***\n",
        "  - What is a Hash Table?\n",
        "  \n",
        "    - A hash table is a data structure that stores key-value pairs, where each key is mapped to a specific value using a hash function.\n",
        "The hash function takes a key as input and produces an index (or hash code) into an array (the hash table) where the corresponding value is stored.\n",
        "This allows for very fast lookups, insertions, and deletions of data, as the position of a value can be determined directly from its key using the hash function.\n",
        "\n",
        "- How Dictionaries Relate to Hash Tables in Python:\n",
        "  -\n",
        "In Python, dictionaries are implemented using hash tables (or hash maps).\n",
        "When you create a dictionary in Python, you are essentially creating a hash table, where the keys are the keys of the hash table, and the values are the values stored in the hash table.\n",
        "Python uses a hash function to determine the location of a key-value pair within the hash table, allowing for efficient access to the values associated with the keys.\n",
        "The keys in a Python dictionary must be hashable, meaning they must have a hash value that does not change during their lifetime."
      ],
      "metadata": {
        "id": "27AcrJTa4sYx"
      }
    },
    {
      "cell_type": "markdown",
      "source": [
        "***Q9) Can lists contain different data types in Python ?***\n",
        "  - A list can also contain a mix of Python types including strings, floats, and booleans."
      ],
      "metadata": {
        "id": "qJ52EM6I5hqr"
      }
    },
    {
      "cell_type": "code",
      "source": [
        "#example\n",
        "list_cont = [1, 2, 3, 4.3, 3+5j, True, \"Ajay\"]\n",
        "list_cont"
      ],
      "metadata": {
        "colab": {
          "base_uri": "https://localhost:8080/"
        },
        "id": "xB7tlO705448",
        "outputId": "b5561ca3-9a50-457c-a982-542cd3683633"
      },
      "execution_count": 4,
      "outputs": [
        {
          "output_type": "execute_result",
          "data": {
            "text/plain": [
              "[1, 2, 3, 4.3, (3+5j), True, 'Ajay']"
            ]
          },
          "metadata": {},
          "execution_count": 4
        }
      ]
    },
    {
      "cell_type": "markdown",
      "source": [
        "***Q10) Expalin why strings are immutable in Python ?***\n",
        "  - Python strings are \"immutable\" which means they cannot be changed after they are created (Java strings also use this immutable style). Since strings can't be changed, we construct *new* strings as we go to represent computed values."
      ],
      "metadata": {
        "id": "lBUb29266Krk"
      }
    },
    {
      "cell_type": "markdown",
      "source": [
        "***Q11) What advantages do dictionaries offer over lists for certain task ?***\n",
        "  - Advantages of Dictionaries:\n",
        "    - Fast Data Retrieval:\n",
        "Dictionaries use hash tables, allowing for near-instantaneous access to values based on their keys, unlike lists where you need to traverse through each element.\n",
        "    - Key-Value Pair Structure:\n",
        "Dictionaries store data as key-value pairs, making it easy to associate and retrieve related data.\n",
        "    - Mapping Relationships:\n",
        "Dictionaries are ideal for representing and managing relationships between items, where one item (the key) corresponds to another (the value).\n",
        "    - Dynamic Data Structure:\n",
        "Dictionaries are mutable, allowing you to add, update, or remove key-value pairs as needed.\n",
        "    - Built-in Methods:\n",
        "Python dictionaries offer various built-in methods for easy data manipulation and iteration, such as get(), keys(), values(), and items().\n",
        "Efficient for Large Datasets:\n",
        "Due to efficient data retrieval, dictionaries are well-suited for storing and accessing large datasets quickly."
      ],
      "metadata": {
        "id": "oVBuC03B6oQZ"
      }
    },
    {
      "cell_type": "markdown",
      "source": [
        "***Q12) Describe a scenario where using a tuple would be preferable over a lists ?***\n",
        "  -  Tuples are immutable. Hence, they are primarily used to store data that doesn't change frequently. Any operation can store data in a tuple when you don't want it to change. Tuples are great to use if you want the data in your collection to be read-only, never to change, and always remain the same and constant."
      ],
      "metadata": {
        "id": "2un-sk6F7YQ8"
      }
    },
    {
      "cell_type": "markdown",
      "source": [
        "***Q13) How do sets handle dublicate value in Python ?***\n",
        "   - Sets are used to store multiple items in a single variable.\n",
        "\n",
        "   - Set is one of 4 built-in data types in Python used to store collections of data, the other 3 are List, Tuple, and Dictionary, all with different qualities and usage.\n",
        "\n",
        "   - A set is a collection which is unordered, unchangeable*, and unindexed.\n",
        "   - Sets cannot have two items with the same value."
      ],
      "metadata": {
        "id": "WGCiMq4k73SL"
      }
    },
    {
      "cell_type": "code",
      "source": [
        "#example\n",
        "thisset = {\"apple\", \"banana\", \"cherry\", \"apple\"}\n",
        "\n",
        "print(thisset)"
      ],
      "metadata": {
        "colab": {
          "base_uri": "https://localhost:8080/"
        },
        "id": "HpyKpYUa8c_Y",
        "outputId": "e0561fe2-dc10-4a89-b356-1703f0333823"
      },
      "execution_count": 5,
      "outputs": [
        {
          "output_type": "stream",
          "name": "stdout",
          "text": [
            "{'banana', 'cherry', 'apple'}\n"
          ]
        }
      ]
    },
    {
      "cell_type": "markdown",
      "source": [
        "***Q15) Can you modify the elment of a tuple ? Explain why or why not ?***\n",
        "  -   No, you cannot directly modify the elements of a tuple in Python because tuples are immutable, meaning their contents cannot be changed after creation.\n",
        "  - Here's why:\n",
        "   - Immutability: Tuples are designed to be a fixed, ordered collection of elements, ensuring data integrity.\n",
        "   - Data Integrity: By making tuples immutable, Python avoids potential issues that could arise from accidental or unintended modifications.\n",
        "   - Hashability: Immutability is also crucial for tuples to be used as keys in dictionaries, as dictionaries require hashable keys.\n",
        "   - Alternative: If you need a mutable sequence, you should use a list instead.\n"
      ],
      "metadata": {
        "id": "-r1nqNxg8lFK"
      }
    },
    {
      "cell_type": "code",
      "source": [
        "#example\n",
        "my_tuple = (1, 2, 3)\n",
        "    # Attempting to modify a tuple element will raise a TypeError\n",
        "my_tuple[0] = 4  # This will cause an error"
      ],
      "metadata": {
        "colab": {
          "base_uri": "https://localhost:8080/",
          "height": 176
        },
        "id": "reZxhkVC9OTv",
        "outputId": "982af406-4ca9-4e27-bbb5-2f0d1419a440"
      },
      "execution_count": 7,
      "outputs": [
        {
          "output_type": "error",
          "ename": "TypeError",
          "evalue": "'tuple' object does not support item assignment",
          "traceback": [
            "\u001b[0;31m---------------------------------------------------------------------------\u001b[0m",
            "\u001b[0;31mTypeError\u001b[0m                                 Traceback (most recent call last)",
            "\u001b[0;32m<ipython-input-7-fac6d76b3a4c>\u001b[0m in \u001b[0;36m<cell line: 0>\u001b[0;34m()\u001b[0m\n\u001b[1;32m      2\u001b[0m \u001b[0mmy_tuple\u001b[0m \u001b[0;34m=\u001b[0m \u001b[0;34m(\u001b[0m\u001b[0;36m1\u001b[0m\u001b[0;34m,\u001b[0m \u001b[0;36m2\u001b[0m\u001b[0;34m,\u001b[0m \u001b[0;36m3\u001b[0m\u001b[0;34m)\u001b[0m\u001b[0;34m\u001b[0m\u001b[0;34m\u001b[0m\u001b[0m\n\u001b[1;32m      3\u001b[0m     \u001b[0;31m# Attempting to modify a tuple element will raise a TypeError\u001b[0m\u001b[0;34m\u001b[0m\u001b[0;34m\u001b[0m\u001b[0m\n\u001b[0;32m----> 4\u001b[0;31m \u001b[0mmy_tuple\u001b[0m\u001b[0;34m[\u001b[0m\u001b[0;36m0\u001b[0m\u001b[0;34m]\u001b[0m \u001b[0;34m=\u001b[0m \u001b[0;36m4\u001b[0m  \u001b[0;31m# This will cause an error\u001b[0m\u001b[0;34m\u001b[0m\u001b[0;34m\u001b[0m\u001b[0m\n\u001b[0m",
            "\u001b[0;31mTypeError\u001b[0m: 'tuple' object does not support item assignment"
          ]
        }
      ]
    },
    {
      "cell_type": "markdown",
      "source": [
        "***Q16) What is a nested dictionaries and given an example of its use cases ?***\n",
        "   - A nested dictionary in Python is a dictionary where the values are themselves dictionaries, creating a hierarchical or multi-level data structure. Use cases include representing complex data structures like organizational charts, inventory systems, or JSON data."
      ],
      "metadata": {
        "id": "QP5uRSVk9X78"
      }
    },
    {
      "cell_type": "code",
      "source": [
        "    # Example of a nested dictionary representing employee data\n",
        "    employees = {\n",
        "        \"department1\": {\n",
        "            \"employee1\": {\"name\": \"Alice\", \"id\": 123},\n",
        "            \"employee2\": {\"name\": \"Bob\", \"id\": 456}},\n",
        "        \"department2\": {\"employee3\": {\"name\": \"Charlie\", \"id\": 789 } }}"
      ],
      "metadata": {
        "id": "XtsPNwOx9unJ"
      },
      "execution_count": 10,
      "outputs": []
    },
    {
      "cell_type": "markdown",
      "source": [
        "***Q17) Describe the time complexity of accsessing element in a dictionary ?***\n",
        "   - The time complexity of dictionary operations in Python depends on the size of the dictionary and the specific operation being performed. Here's a summary of the time complexity of some common dictionary operations: Accessing a value by key: O(1) on average, O(n) worst case if there are many collisions."
      ],
      "metadata": {
        "id": "iMo1v0X9-Jth"
      }
    },
    {
      "cell_type": "markdown",
      "source": [
        "***Q18) In what situation are lists preferred over dictionaries ?***\n",
        "   - A dictionary has several advantages over a list especially in python. Dictionarys have two parts to every entry the key and the value and these are stored as pairs. This can give you more flexibility when storing data. The primary advantage would be retrieving stored values as it is much simpler to search through a dictionary.If the data your trying to store is identifiable so the data can be attributed to name name or item this might be a preferable system. One example would be storing the age of school students. You could store the age and name as a value and key pair. This would allow you to sort the dictionary for a particular student and retrieve their age. To do this with lists you would require two lists to search through or a very complicated indexing systems."
      ],
      "metadata": {
        "id": "P8ZyEQW--sfy"
      }
    },
    {
      "cell_type": "markdown",
      "source": [
        "Q19) ***Why are dictionaries considered unordered , and how does that affect data retrival ?***\n",
        "  - Dictionaries are considered unordered because they store data as key-value pairs, and the order in which these pairs are inserted doesn't affect how they are stored or retrieved; accessing data relies on keys, not position."
      ],
      "metadata": {
        "id": "o2K-FQSQ_bDr"
      }
    },
    {
      "cell_type": "markdown",
      "source": [
        "***Q20) Explain the difference between a list and dictionary in term of data retrival .***\n",
        "  - A list is an ordered collection of items, whereas a dictionary is an unordered data collection in a key: value pair. Elements from the list can be accessed using the index, while the elements of the dictionary can be accessed using keys"
      ],
      "metadata": {
        "id": "-GFZda0e_0B5"
      }
    },
    {
      "cell_type": "markdown",
      "source": [
        "# ***Practical questions***"
      ],
      "metadata": {
        "id": "jk9fdBA2AecU"
      }
    },
    {
      "cell_type": "markdown",
      "source": [
        "***Q1) Write a code to create a string with your name and print it .***"
      ],
      "metadata": {
        "id": "sid0ixNkAlui"
      }
    },
    {
      "cell_type": "code",
      "source": [
        "name = \"anamika\"\n",
        "print(name)"
      ],
      "metadata": {
        "colab": {
          "base_uri": "https://localhost:8080/"
        },
        "id": "HILw4NkuA6Yk",
        "outputId": "250cc5bc-c174-47cb-b2dd-27728a6f7a57"
      },
      "execution_count": 11,
      "outputs": [
        {
          "output_type": "stream",
          "name": "stdout",
          "text": [
            "anamika\n"
          ]
        }
      ]
    },
    {
      "cell_type": "markdown",
      "source": [
        "*Q2) Write a code to find the length of the string \"hello world\".*"
      ],
      "metadata": {
        "id": "85k2t5RdBJ35"
      }
    },
    {
      "cell_type": "code",
      "source": [
        "name = \"hello world\"\n",
        "len_name = len(name)\n",
        "print(len_name)"
      ],
      "metadata": {
        "colab": {
          "base_uri": "https://localhost:8080/"
        },
        "id": "QyRFd0M4BXNU",
        "outputId": "d8ace3af-daeb-40e6-836b-f5ac526e3f2e"
      },
      "execution_count": 17,
      "outputs": [
        {
          "output_type": "stream",
          "name": "stdout",
          "text": [
            "11\n"
          ]
        }
      ]
    },
    {
      "cell_type": "markdown",
      "source": [
        "***Q3) Write a code to slice the first 3 charecters from the string \"Python programming\"***"
      ],
      "metadata": {
        "id": "sxztPwEiCGoF"
      }
    },
    {
      "cell_type": "code",
      "source": [
        "s = \"Python programming\"\n",
        "print(s[0:3])\n"
      ],
      "metadata": {
        "colab": {
          "base_uri": "https://localhost:8080/"
        },
        "id": "DoQAfy5zCUkZ",
        "outputId": "f179052d-9ac8-45e7-9aef-19c5623ca29e"
      },
      "execution_count": 19,
      "outputs": [
        {
          "output_type": "stream",
          "name": "stdout",
          "text": [
            "Pyt\n"
          ]
        }
      ]
    },
    {
      "cell_type": "markdown",
      "source": [
        "***Q4) Write a code to convert the string \"hello\" to uppercase.***"
      ],
      "metadata": {
        "id": "2_zbdqQfDExV"
      }
    },
    {
      "cell_type": "code",
      "source": [
        "I = \"hello\"\n",
        "print(I.upper())"
      ],
      "metadata": {
        "colab": {
          "base_uri": "https://localhost:8080/"
        },
        "id": "sHd96kTeDOzL",
        "outputId": "d26299d8-55de-4075-e78a-6bafdb4ce5c9"
      },
      "execution_count": 23,
      "outputs": [
        {
          "output_type": "stream",
          "name": "stdout",
          "text": [
            "HELLO\n"
          ]
        }
      ]
    },
    {
      "cell_type": "markdown",
      "source": [
        "***Q5) Write a code to replace the word \"apple\" with \"orange\" in the string \"I like apple\".***"
      ],
      "metadata": {
        "id": "WqDTLvZzDw0N"
      }
    },
    {
      "cell_type": "code",
      "source": [
        "original = \"I like apple\"\n",
        "new_text = original.replace('apple', 'orange')\n",
        "print(new_text)"
      ],
      "metadata": {
        "colab": {
          "base_uri": "https://localhost:8080/"
        },
        "id": "AmElByH7D94u",
        "outputId": "0a17f20f-9795-47ab-df10-f1c06c1693b8"
      },
      "execution_count": 25,
      "outputs": [
        {
          "output_type": "stream",
          "name": "stdout",
          "text": [
            "I like orange\n"
          ]
        }
      ]
    },
    {
      "cell_type": "markdown",
      "source": [
        "***Q6) Write a code to create a list with numbers 1 to 5 and print it.***"
      ],
      "metadata": {
        "id": "4mAJQwHbE-_p"
      }
    },
    {
      "cell_type": "code",
      "source": [
        "#Creating a list of numbers from 1 to 5\n",
        "numbers = []\n",
        "for i in range(1, 6):\n",
        "    numbers.append(i)\n",
        "print(numbers)"
      ],
      "metadata": {
        "colab": {
          "base_uri": "https://localhost:8080/"
        },
        "id": "fkK1yKabFLwV",
        "outputId": "14c62e65-6cde-4585-aa11-bc412d23e127"
      },
      "execution_count": 26,
      "outputs": [
        {
          "output_type": "stream",
          "name": "stdout",
          "text": [
            "[1, 2, 3, 4, 5]\n"
          ]
        }
      ]
    },
    {
      "cell_type": "markdown",
      "source": [
        "***Q7) Write a code to append a number 10 to the list [1,2,3,4]***"
      ],
      "metadata": {
        "id": "igVkCtrRFb5Z"
      }
    },
    {
      "cell_type": "code",
      "source": [
        "A = [1,2,3,4]\n",
        "A.append(10)\n",
        "print (A)"
      ],
      "metadata": {
        "colab": {
          "base_uri": "https://localhost:8080/"
        },
        "id": "ATeOjfevFnDg",
        "outputId": "7a98e92f-7443-4955-8f4f-fc77f74e6e6c"
      },
      "execution_count": 30,
      "outputs": [
        {
          "output_type": "stream",
          "name": "stdout",
          "text": [
            "[1, 2, 3, 4, 10]\n"
          ]
        }
      ]
    },
    {
      "cell_type": "markdown",
      "source": [
        "***Q8)Write a code to remove the number 3 from the list [1,2,3,4,5]***"
      ],
      "metadata": {
        "id": "r62_lUsIGrfh"
      }
    },
    {
      "cell_type": "code",
      "source": [
        "A = [1,2,3,4,5]\n",
        "A.remove(3)\n",
        "print(A)"
      ],
      "metadata": {
        "colab": {
          "base_uri": "https://localhost:8080/"
        },
        "id": "wrQuGNkuHEn8",
        "outputId": "7327ffc7-2b26-4f2a-d040-3aa4bdebc728"
      },
      "execution_count": 32,
      "outputs": [
        {
          "output_type": "stream",
          "name": "stdout",
          "text": [
            "[1, 2, 4, 5]\n"
          ]
        }
      ]
    },
    {
      "cell_type": "markdown",
      "source": [
        "***Q9) Write a code to access the second element in the list ['a','b','c','d'].***"
      ],
      "metadata": {
        "id": "BuzMlwK7HUQy"
      }
    },
    {
      "cell_type": "code",
      "source": [
        "I = ['a','b','c','d']\n",
        "I[1]\n",
        "print(I[1])"
      ],
      "metadata": {
        "colab": {
          "base_uri": "https://localhost:8080/"
        },
        "id": "BBYxRgXkHlPS",
        "outputId": "7af7f11e-c95f-4d46-a21f-c0dd5c9dbb22"
      },
      "execution_count": 34,
      "outputs": [
        {
          "output_type": "stream",
          "name": "stdout",
          "text": [
            "b\n"
          ]
        }
      ]
    },
    {
      "cell_type": "markdown",
      "source": [
        "***Q10) Write a code reverse the list [10,20,30,40,50].***"
      ],
      "metadata": {
        "id": "ING5yw3uH16y"
      }
    },
    {
      "cell_type": "code",
      "source": [
        "I = [10,20,30,40,50]\n",
        "I.reverse()\n",
        "print(I)"
      ],
      "metadata": {
        "colab": {
          "base_uri": "https://localhost:8080/"
        },
        "id": "SZEdL7puIBJW",
        "outputId": "0a9b4729-33d4-464a-c23d-7d5257133ed7"
      },
      "execution_count": 37,
      "outputs": [
        {
          "output_type": "stream",
          "name": "stdout",
          "text": [
            "[50, 40, 30, 20, 10]\n"
          ]
        }
      ]
    },
    {
      "cell_type": "markdown",
      "source": [
        "***Q11) Write a code to create a tuple with the elements 100,200,300 and print it.***"
      ],
      "metadata": {
        "id": "MZ3iph-4Iv5T"
      }
    },
    {
      "cell_type": "code",
      "source": [
        "I = [100,200,300]\n",
        "type_tuple = tuple(I)\n",
        "print(type_tuple)"
      ],
      "metadata": {
        "colab": {
          "base_uri": "https://localhost:8080/"
        },
        "id": "FeLxOXR1I_ZO",
        "outputId": "a196c6bd-2a4a-40a5-f9c5-ebc76088b2ee"
      },
      "execution_count": 41,
      "outputs": [
        {
          "output_type": "stream",
          "name": "stdout",
          "text": [
            "(100, 200, 300)\n"
          ]
        }
      ]
    },
    {
      "cell_type": "markdown",
      "source": [
        "***Q12) Write a code to access the second to last elememnt of the tuple ('red','green','blue','yellow').***"
      ],
      "metadata": {
        "id": "TL6Et9WIJ90e"
      }
    },
    {
      "cell_type": "code",
      "source": [
        "colour = ('red','green','blue','yellow')\n",
        "print(colour[-2])"
      ],
      "metadata": {
        "colab": {
          "base_uri": "https://localhost:8080/"
        },
        "id": "iMMP7o5HUyQF",
        "outputId": "5c99c9e7-b458-46d0-d67e-da5b21cea79b"
      },
      "execution_count": 42,
      "outputs": [
        {
          "output_type": "stream",
          "name": "stdout",
          "text": [
            "blue\n"
          ]
        }
      ]
    },
    {
      "cell_type": "markdown",
      "source": [
        "***Q13) Write a code to find the minimum number in the tuple (10,20,5,15)***"
      ],
      "metadata": {
        "id": "Yy-3AqJ8ViFm"
      }
    },
    {
      "cell_type": "code",
      "source": [
        "set = (10,20,5,15)\n",
        "print(min(set))"
      ],
      "metadata": {
        "colab": {
          "base_uri": "https://localhost:8080/"
        },
        "id": "pY_J_uHEVvqL",
        "outputId": "99d353bc-5c50-47d2-dd53-9a381a7e628b"
      },
      "execution_count": 43,
      "outputs": [
        {
          "output_type": "stream",
          "name": "stdout",
          "text": [
            "5\n"
          ]
        }
      ]
    },
    {
      "cell_type": "markdown",
      "source": [
        "***Q14) Write a code to find the index of the element \"cat\" in the tuple ('dog','cat','rabbit')***"
      ],
      "metadata": {
        "id": "kTBqHQETV_YQ"
      }
    },
    {
      "cell_type": "code",
      "source": [
        "animal = ('dog','cat','rabbit')\n",
        "print(animal.index('cat'))"
      ],
      "metadata": {
        "colab": {
          "base_uri": "https://localhost:8080/"
        },
        "id": "A8RJPzA_WOwM",
        "outputId": "cc734671-e7b3-4ea1-cbd0-19c6df3b17f2"
      },
      "execution_count": 44,
      "outputs": [
        {
          "output_type": "stream",
          "name": "stdout",
          "text": [
            "1\n"
          ]
        }
      ]
    },
    {
      "cell_type": "markdown",
      "source": [
        "***Q15) Write a code to create a tuple containing three different fruits and checks if \"kiwi\" is in it.***"
      ],
      "metadata": {
        "id": "rhZvWYeoWjgD"
      }
    },
    {
      "cell_type": "code",
      "source": [
        "fruits = ('apple','banana','orange')\n",
        "print('kiwi' in fruits)"
      ],
      "metadata": {
        "colab": {
          "base_uri": "https://localhost:8080/"
        },
        "id": "VtcLetdOWxxt",
        "outputId": "a3592836-40f8-44d8-83e9-8183744ccf88"
      },
      "execution_count": 45,
      "outputs": [
        {
          "output_type": "stream",
          "name": "stdout",
          "text": [
            "False\n"
          ]
        }
      ]
    },
    {
      "cell_type": "markdown",
      "source": [
        "***Q16) Write a code to create a set with the element 'a','b','c' and print it .***"
      ],
      "metadata": {
        "id": "sBFbeF7nXCkP"
      }
    },
    {
      "cell_type": "code",
      "source": [
        "#create a set of string type\n",
        "set = ('a','b','c')\n",
        "print(set)"
      ],
      "metadata": {
        "colab": {
          "base_uri": "https://localhost:8080/"
        },
        "id": "ShJwhT8BXRq6",
        "outputId": "dc39a9f8-8d60-4a87-d1df-223714831cae"
      },
      "execution_count": 46,
      "outputs": [
        {
          "output_type": "stream",
          "name": "stdout",
          "text": [
            "('a', 'b', 'c')\n"
          ]
        }
      ]
    },
    {
      "cell_type": "markdown",
      "source": [
        "***Q17) Write a code to clear all elements from the set {1,2,3,4,5}.***"
      ],
      "metadata": {
        "id": "R6FyqBV0Xo44"
      }
    },
    {
      "cell_type": "code",
      "source": [
        "set = {1,2,3,4,5}\n",
        "set.clear()\n",
        "print(set)"
      ],
      "metadata": {
        "colab": {
          "base_uri": "https://localhost:8080/"
        },
        "id": "zENjP4_9X3vU",
        "outputId": "fbd3dd15-8a6c-4fe1-bd38-f74c6ec9ecf4"
      },
      "execution_count": 47,
      "outputs": [
        {
          "output_type": "stream",
          "name": "stdout",
          "text": [
            "set()\n"
          ]
        }
      ]
    },
    {
      "cell_type": "markdown",
      "source": [
        "***Q18) Write a code to remove the element 4 from the set {1,2,3,4}.***"
      ],
      "metadata": {
        "id": "ulqJp9YxX736"
      }
    },
    {
      "cell_type": "code",
      "source": [
        "set = {1,2,3,4}\n",
        "set.remove(4)\n",
        "print(set)"
      ],
      "metadata": {
        "colab": {
          "base_uri": "https://localhost:8080/"
        },
        "id": "wQE-OYZOYHmH",
        "outputId": "2b255ad6-4dca-4078-89ce-01a665513bde"
      },
      "execution_count": 48,
      "outputs": [
        {
          "output_type": "stream",
          "name": "stdout",
          "text": [
            "{1, 2, 3}\n"
          ]
        }
      ]
    },
    {
      "cell_type": "markdown",
      "source": [
        "***Q19) Write a code to find the union of the two sets {1,2,3} and {2,3,4}***"
      ],
      "metadata": {
        "id": "mjUn3sqvYLzx"
      }
    },
    {
      "cell_type": "code",
      "source": [
        "A = {1,2,3}\n",
        "B = {2,3,4}\n",
        "set_union = set.union(A,B)\n",
        "print(set_union)"
      ],
      "metadata": {
        "colab": {
          "base_uri": "https://localhost:8080/"
        },
        "id": "xsI6aX8zYWpi",
        "outputId": "46cc7ad6-aac6-40d6-8c9e-7c51b89f8bba"
      },
      "execution_count": 57,
      "outputs": [
        {
          "output_type": "stream",
          "name": "stdout",
          "text": [
            "{1, 2, 3, 4}\n"
          ]
        }
      ]
    },
    {
      "cell_type": "markdown",
      "source": [
        "***Q20) Write a code to find the intersection of two sets {1,2,3} and {2,3,4}.***"
      ],
      "metadata": {
        "id": "4ite2RiIZnN3"
      }
    },
    {
      "cell_type": "code",
      "source": [
        "A = {1,2,3}\n",
        "B = {2,3,4}\n",
        "set_intersection = set.intersection(A,B)\n",
        "print(set_intersection)"
      ],
      "metadata": {
        "colab": {
          "base_uri": "https://localhost:8080/"
        },
        "id": "IlOc8nUGZ0oA",
        "outputId": "07d50cbe-8099-42b5-a833-387c884263bc"
      },
      "execution_count": 58,
      "outputs": [
        {
          "output_type": "stream",
          "name": "stdout",
          "text": [
            "{2, 3}\n"
          ]
        }
      ]
    },
    {
      "cell_type": "markdown",
      "source": [
        "***Q21) Write a code to create a dictionary with the keys \"name\", \"age\", and \"city\" and print it.***"
      ],
      "metadata": {
        "id": "LAg0VdmJaAjC"
      }
    },
    {
      "cell_type": "code",
      "source": [
        "data = {\"name\": \"anamika\", \"age\": 30, \"city\": \"delhi\"}\n",
        "print(data)"
      ],
      "metadata": {
        "colab": {
          "base_uri": "https://localhost:8080/"
        },
        "id": "0zXywH0UaQW3",
        "outputId": "334df8b1-78b5-4f7e-f132-5ecda52a787e"
      },
      "execution_count": 59,
      "outputs": [
        {
          "output_type": "stream",
          "name": "stdout",
          "text": [
            "{'name': 'anamika', 'age': 30, 'city': 'delhi'}\n"
          ]
        }
      ]
    },
    {
      "cell_type": "markdown",
      "source": [
        "*Q22) Write a code to add a new key -value pair \"country\", \"USA\", to the dictionary {'name':,'john','age':,25}*"
      ],
      "metadata": {
        "id": "gLU3poV3a_PR"
      }
    },
    {
      "cell_type": "code",
      "source": [
        "#add new key_value\n",
        "data = {'name': 'john', 'age': 25}\n",
        "data['country'] = 'USA'\n",
        "print(data)"
      ],
      "metadata": {
        "colab": {
          "base_uri": "https://localhost:8080/"
        },
        "id": "Ujrx_1QXbcU0",
        "outputId": "3a505c59-2d1c-4f74-ba0b-f0dc24c34eb9"
      },
      "execution_count": 60,
      "outputs": [
        {
          "output_type": "stream",
          "name": "stdout",
          "text": [
            "{'name': 'john', 'age': 25, 'country': 'USA'}\n"
          ]
        }
      ]
    },
    {
      "cell_type": "markdown",
      "source": [
        "***Q23) Write a code to access the value associated with the key \"name\" in the dictionary {'name':,'Alice','age':30}.***"
      ],
      "metadata": {
        "id": "aIJyphXcbnQx"
      }
    },
    {
      "cell_type": "code",
      "source": [
        "#access the value associated with key\n",
        "data = {'name': 'Alice', 'age': 30}\n",
        "print(data['name'])"
      ],
      "metadata": {
        "colab": {
          "base_uri": "https://localhost:8080/"
        },
        "id": "pSFpYahpb_pz",
        "outputId": "35aa32e9-c0c1-47a9-cf9e-4ed4fa0bae16"
      },
      "execution_count": 61,
      "outputs": [
        {
          "output_type": "stream",
          "name": "stdout",
          "text": [
            "Alice\n"
          ]
        }
      ]
    },
    {
      "cell_type": "markdown",
      "source": [
        "*Q24) Write a code to remove the key \"age\" from the dictionary {'name':Bob,'age':22,'city':'new york'}*"
      ],
      "metadata": {
        "id": "JXqh8QVucIMz"
      }
    },
    {
      "cell_type": "code",
      "source": [
        "#remove the key \"age\"\n",
        "data = {'name': 'Bob', 'age': 22, 'city': 'new york'}\n",
        "del data['age']\n",
        "print(data)"
      ],
      "metadata": {
        "colab": {
          "base_uri": "https://localhost:8080/"
        },
        "id": "6kb5n4tGcdfr",
        "outputId": "0b0b5fb1-7eab-4192-85d8-df16293e0781"
      },
      "execution_count": 62,
      "outputs": [
        {
          "output_type": "stream",
          "name": "stdout",
          "text": [
            "{'name': 'Bob', 'city': 'new york'}\n"
          ]
        }
      ]
    },
    {
      "cell_type": "markdown",
      "source": [
        "***Q25) write a code to check if the key \"city\" exixts in the dictionary {'name':'Alice','city':'paris'}***"
      ],
      "metadata": {
        "id": "FvRF_s5dckv7"
      }
    },
    {
      "cell_type": "code",
      "source": [
        "#check exist key\n",
        "data = {'name':'Alice','city':'paris'}\n",
        "print('city' in data)"
      ],
      "metadata": {
        "colab": {
          "base_uri": "https://localhost:8080/"
        },
        "id": "N7AoRASVc9MG",
        "outputId": "4ecb270f-45a7-444c-db68-a0b7c8bb9b98"
      },
      "execution_count": 63,
      "outputs": [
        {
          "output_type": "stream",
          "name": "stdout",
          "text": [
            "True\n"
          ]
        }
      ]
    },
    {
      "cell_type": "markdown",
      "source": [
        "***Q26) Write a code to create a list, a tuple, and a dictionary , and print them all. ***"
      ],
      "metadata": {
        "id": "aNqaBXj_dI-g"
      }
    },
    {
      "cell_type": "code",
      "source": [
        "#create a list,tuple and disctionary\n",
        "list = [1,2,'data',]\n",
        "tuple = (1,2,3,4)\n",
        "thisdict = {\n",
        "  \"brand\": \"Ford\",\n",
        "  \"model\": \"Mustang\",\n",
        "  \"year\": 1964\n",
        "}\n",
        "\n",
        "print(list)\n",
        "print(tuple)\n",
        "print(thisdict)"
      ],
      "metadata": {
        "colab": {
          "base_uri": "https://localhost:8080/"
        },
        "id": "HHHWqVEhdTG2",
        "outputId": "cc005a33-98f7-41fc-da2b-a94f86458efd"
      },
      "execution_count": 64,
      "outputs": [
        {
          "output_type": "stream",
          "name": "stdout",
          "text": [
            "[1, 2, 'data']\n",
            "(1, 2, 3, 4)\n",
            "{'brand': 'Ford', 'model': 'Mustang', 'year': 1964}\n"
          ]
        }
      ]
    },
    {
      "cell_type": "markdown",
      "source": [
        "***Q27) Write a code to create  a list of 5 random numbers between 1 and 100 , sort it in ascending order, and print the result (replaced).***"
      ],
      "metadata": {
        "id": "tdXH50nvevgN"
      }
    },
    {
      "cell_type": "code",
      "source": [
        "#ascending order\n",
        "set = [4,20,8,10,15]\n",
        "set.sort()\n",
        "print(set)"
      ],
      "metadata": {
        "colab": {
          "base_uri": "https://localhost:8080/"
        },
        "id": "jL8HHr-4fDVi",
        "outputId": "e7d05839-af2c-4554-99d3-24adcf985af0"
      },
      "execution_count": 66,
      "outputs": [
        {
          "output_type": "stream",
          "name": "stdout",
          "text": [
            "[4, 8, 10, 15, 20]\n"
          ]
        }
      ]
    },
    {
      "cell_type": "markdown",
      "source": [
        "***Q28) Write a code to create a list with strings and print the element at the third index.***"
      ],
      "metadata": {
        "id": "r8Zvhpa4fkFz"
      }
    },
    {
      "cell_type": "code",
      "source": [
        "list_data = [\"happy,'pwskill\",\"learning\", \"data science\"]\n",
        "#list_index(3)  # This line is not valid Python.  list_index is not a function.\n",
        "print(list_data[2]) # Assuming you want to access the 3rd element (index 2)."
      ],
      "metadata": {
        "colab": {
          "base_uri": "https://localhost:8080/"
        },
        "id": "vakX08Qlf_Vm",
        "outputId": "8a5f6262-6812-486f-cc28-c5a9daed99e3"
      },
      "execution_count": 69,
      "outputs": [
        {
          "output_type": "stream",
          "name": "stdout",
          "text": [
            "data science\n"
          ]
        }
      ]
    },
    {
      "cell_type": "markdown",
      "source": [
        "***Q29) Write a code to combine two dictionaries into one and print the result.***"
      ],
      "metadata": {
        "id": "pwg-_oNJg8em"
      }
    },
    {
      "cell_type": "code",
      "source": [
        "dict_1 = {1: 'a', 2: 'b'}\n",
        "dict_2 = {2: 'c', 4: 'd'}\n",
        "\n",
        "print(dict_1 | dict_2)"
      ],
      "metadata": {
        "colab": {
          "base_uri": "https://localhost:8080/"
        },
        "id": "GLA3eHPlhJM-",
        "outputId": "2a8c986c-5b6c-4c8e-e99e-7cb21a2517be"
      },
      "execution_count": 71,
      "outputs": [
        {
          "output_type": "stream",
          "name": "stdout",
          "text": [
            "{1: 'a', 2: 'c', 4: 'd'}\n"
          ]
        }
      ]
    },
    {
      "cell_type": "markdown",
      "source": [
        "***Q30) Write a code to convert a list of string into a set.***\n"
      ],
      "metadata": {
        "id": "EbLFOQxihTIY"
      }
    },
    {
      "cell_type": "code",
      "source": [
        "string = 'World!'\n",
        "my_set = {'Hello'}\n",
        "my_set.update(string)\n",
        "\n",
        "print(type(string))\n",
        "print(my_set)\n",
        "print(type(my_set))\n"
      ],
      "metadata": {
        "colab": {
          "base_uri": "https://localhost:8080/"
        },
        "id": "zNQIzAYzldQC",
        "outputId": "8baef764-96c6-4345-b00d-f3699fc88980"
      },
      "execution_count": 91,
      "outputs": [
        {
          "output_type": "stream",
          "name": "stdout",
          "text": [
            "<class 'str'>\n",
            "{'!', 'Hello', 'o', 'd', 'l', 'W', 'r'}\n",
            "<class 'set'>\n"
          ]
        }
      ]
    }
  ]
}